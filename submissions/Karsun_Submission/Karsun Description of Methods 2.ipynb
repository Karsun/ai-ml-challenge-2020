{
 "cells": [
  {
   "cell_type": "code",
   "execution_count": 47,
   "metadata": {},
   "outputs": [],
   "source": [
    "import sagemaker\n",
    "import numpy as np\n",
    "import pandas as pd\n",
    "import transformers\n",
    "import seaborn as sns\n",
    "import matplotlib.pyplot as plt\n",
    "import json\n",
    "\n",
    "from sagemaker.pytorch import PyTorch\n",
    "from sklearn.model_selection import train_test_split\n",
    "from transformers import BertModel, BertTokenizer, BertConfig, AdamW, get_linear_schedule_with_warmup\n",
    "from matplotlib import rc\n",
    "\n",
    "sagemaker_session = sagemaker.Session()\n",
    "\n",
    "bucket = sagemaker_session.default_bucket()\n",
    "prefix = \"sagemaker/pytorch-bert\"\n",
    "\n",
    "role = sagemaker.get_execution_role()"
   ]
  },
  {
   "cell_type": "markdown",
   "metadata": {},
   "source": [
    "We are taking the hyperparameters and architecture used in the other notebook 'tnc_classifier_bert_experiments.ipynb' and creating the same model here. But delegating the running of training job to SageMaker."
   ]
  },
  {
   "cell_type": "code",
   "execution_count": 48,
   "metadata": {},
   "outputs": [],
   "source": [
    "NO_OVERLAP_SIZE = 100\n",
    "MAX_LEN = 128\n",
    "PRE_TRAINED_MODEL_NAME = 'bert-base-cased'\n",
    "CLASS_NAMES=['Acceptable', 'Unacceptable']"
   ]
  },
  {
   "cell_type": "code",
   "execution_count": 49,
   "metadata": {},
   "outputs": [],
   "source": [
    "def chunk_text_overlapping (text1):\n",
    "  full = []\n",
    "  partial = []\n",
    "  if len(text1.split())//NO_OVERLAP_SIZE >0:\n",
    "    n = len(text1.split())//NO_OVERLAP_SIZE\n",
    "  else:\n",
    "    n = 1\n",
    "  for w in range(n):\n",
    "    if w == 0:\n",
    "      partial = text1.split()[:MAX_LEN]\n",
    "      full.append(\" \".join(partial))\n",
    "    else:\n",
    "      partial = text1.split()[w*NO_OVERLAP_SIZE:w*NO_OVERLAP_SIZE + MAX_LEN]\n",
    "      full.append(\" \".join(partial))\n",
    "  return full"
   ]
  },
  {
   "cell_type": "code",
   "execution_count": 50,
   "metadata": {},
   "outputs": [],
   "source": [
    "def prepare_data(input_df):\n",
    "    data_df = []\n",
    "    for index, row in input_df.iterrows():\n",
    "        #cleaned_text = cleanup_text(row['Clause Text'])\n",
    "        cleaned_text = row['Clause Text']\n",
    "        chunks = chunk_text_overlapping(cleaned_text)\n",
    "        for c in chunks:\n",
    "            data_df.append({'text': c, 'label': row['Classification']})\n",
    "\n",
    "    df1 = pd.DataFrame(data_df, columns=['text', 'label'])\n",
    "    return df1"
   ]
  },
  {
   "cell_type": "code",
   "execution_count": 51,
   "metadata": {},
   "outputs": [
    {
     "data": {
      "text/html": [
       "<div>\n",
       "<style scoped>\n",
       "    .dataframe tbody tr th:only-of-type {\n",
       "        vertical-align: middle;\n",
       "    }\n",
       "\n",
       "    .dataframe tbody tr th {\n",
       "        vertical-align: top;\n",
       "    }\n",
       "\n",
       "    .dataframe thead th {\n",
       "        text-align: right;\n",
       "    }\n",
       "</style>\n",
       "<table border=\"1\" class=\"dataframe\">\n",
       "  <thead>\n",
       "    <tr style=\"text-align: right;\">\n",
       "      <th></th>\n",
       "      <th>label</th>\n",
       "      <th>text_len</th>\n",
       "    </tr>\n",
       "  </thead>\n",
       "  <tbody>\n",
       "    <tr>\n",
       "      <th>count</th>\n",
       "      <td>9188.000000</td>\n",
       "      <td>9188.000000</td>\n",
       "    </tr>\n",
       "    <tr>\n",
       "      <th>mean</th>\n",
       "      <td>0.202329</td>\n",
       "      <td>68.456138</td>\n",
       "    </tr>\n",
       "    <tr>\n",
       "      <th>std</th>\n",
       "      <td>0.401758</td>\n",
       "      <td>47.897724</td>\n",
       "    </tr>\n",
       "    <tr>\n",
       "      <th>min</th>\n",
       "      <td>0.000000</td>\n",
       "      <td>0.000000</td>\n",
       "    </tr>\n",
       "    <tr>\n",
       "      <th>25%</th>\n",
       "      <td>0.000000</td>\n",
       "      <td>23.000000</td>\n",
       "    </tr>\n",
       "    <tr>\n",
       "      <th>50%</th>\n",
       "      <td>0.000000</td>\n",
       "      <td>63.000000</td>\n",
       "    </tr>\n",
       "    <tr>\n",
       "      <th>75%</th>\n",
       "      <td>0.000000</td>\n",
       "      <td>128.000000</td>\n",
       "    </tr>\n",
       "    <tr>\n",
       "      <th>max</th>\n",
       "      <td>1.000000</td>\n",
       "      <td>128.000000</td>\n",
       "    </tr>\n",
       "  </tbody>\n",
       "</table>\n",
       "</div>"
      ],
      "text/plain": [
       "             label     text_len\n",
       "count  9188.000000  9188.000000\n",
       "mean      0.202329    68.456138\n",
       "std       0.401758    47.897724\n",
       "min       0.000000     0.000000\n",
       "25%       0.000000    23.000000\n",
       "50%       0.000000    63.000000\n",
       "75%       0.000000   128.000000\n",
       "max       1.000000   128.000000"
      ]
     },
     "execution_count": 51,
     "metadata": {},
     "output_type": "execute_result"
    }
   ],
   "source": [
    "full_data = pd.read_csv('./data/AI_ML_Challenge_Training_Data_Set_1_v1.csv')\n",
    "df = prepare_data(full_data)\n",
    "df['text_len'] = df['text'].apply(lambda x: len(x.split()))\n",
    "df.describe()"
   ]
  },
  {
   "cell_type": "code",
   "execution_count": 52,
   "metadata": {},
   "outputs": [
    {
     "data": {
      "text/html": [
       "<div>\n",
       "<style scoped>\n",
       "    .dataframe tbody tr th:only-of-type {\n",
       "        vertical-align: middle;\n",
       "    }\n",
       "\n",
       "    .dataframe tbody tr th {\n",
       "        vertical-align: top;\n",
       "    }\n",
       "\n",
       "    .dataframe thead th {\n",
       "        text-align: right;\n",
       "    }\n",
       "</style>\n",
       "<table border=\"1\" class=\"dataframe\">\n",
       "  <thead>\n",
       "    <tr style=\"text-align: right;\">\n",
       "      <th></th>\n",
       "      <th>Clause ID</th>\n",
       "      <th>Classification</th>\n",
       "      <th>words_count</th>\n",
       "    </tr>\n",
       "  </thead>\n",
       "  <tbody>\n",
       "    <tr>\n",
       "      <th>count</th>\n",
       "      <td>28.000000</td>\n",
       "      <td>28.0</td>\n",
       "      <td>28.000000</td>\n",
       "    </tr>\n",
       "    <tr>\n",
       "      <th>mean</th>\n",
       "      <td>10014.500000</td>\n",
       "      <td>1.0</td>\n",
       "      <td>16.071429</td>\n",
       "    </tr>\n",
       "    <tr>\n",
       "      <th>std</th>\n",
       "      <td>8.225975</td>\n",
       "      <td>0.0</td>\n",
       "      <td>20.057193</td>\n",
       "    </tr>\n",
       "    <tr>\n",
       "      <th>min</th>\n",
       "      <td>10001.000000</td>\n",
       "      <td>1.0</td>\n",
       "      <td>1.000000</td>\n",
       "    </tr>\n",
       "    <tr>\n",
       "      <th>25%</th>\n",
       "      <td>10007.750000</td>\n",
       "      <td>1.0</td>\n",
       "      <td>3.750000</td>\n",
       "    </tr>\n",
       "    <tr>\n",
       "      <th>50%</th>\n",
       "      <td>10014.500000</td>\n",
       "      <td>1.0</td>\n",
       "      <td>6.500000</td>\n",
       "    </tr>\n",
       "    <tr>\n",
       "      <th>75%</th>\n",
       "      <td>10021.250000</td>\n",
       "      <td>1.0</td>\n",
       "      <td>24.000000</td>\n",
       "    </tr>\n",
       "    <tr>\n",
       "      <th>max</th>\n",
       "      <td>10028.000000</td>\n",
       "      <td>1.0</td>\n",
       "      <td>91.000000</td>\n",
       "    </tr>\n",
       "  </tbody>\n",
       "</table>\n",
       "</div>"
      ],
      "text/plain": [
       "          Clause ID  Classification  words_count\n",
       "count     28.000000            28.0    28.000000\n",
       "mean   10014.500000             1.0    16.071429\n",
       "std        8.225975             0.0    20.057193\n",
       "min    10001.000000             1.0     1.000000\n",
       "25%    10007.750000             1.0     3.750000\n",
       "50%    10014.500000             1.0     6.500000\n",
       "75%    10021.250000             1.0    24.000000\n",
       "max    10028.000000             1.0    91.000000"
      ]
     },
     "execution_count": 52,
     "metadata": {},
     "output_type": "execute_result"
    }
   ],
   "source": [
    "supplement_data = pd.read_csv('./data/AdditionalData.csv')\n",
    "supplement_data['words_count'] = supplement_data['Clause Text'].apply(lambda x: len(x.split()))\n",
    "supplement_data.describe()"
   ]
  },
  {
   "cell_type": "code",
   "execution_count": 54,
   "metadata": {},
   "outputs": [],
   "source": [
    "df1 = prepare_data(supplement_data)\n",
    "df1['text_len'] = df1['text'].apply(lambda x: len(x.split()))\n",
    "df = pd.concat([df, df1])"
   ]
  },
  {
   "cell_type": "code",
   "execution_count": 55,
   "metadata": {},
   "outputs": [
    {
     "data": {
      "image/png": "[encoded data removed]",
      "text/plain": [
       "<Figure size 432x288 with 1 Axes>"
      ]
     },
     "metadata": {
      "needs_background": "light"
     },
     "output_type": "display_data"
    }
   ],
   "source": [
    "ax = sns.countplot(df['label'])\n",
    "plt.xlabel('Classification')\n",
    "ax.set_xticklabels(CLASS_NAMES);"
   ]
  },
  {
   "cell_type": "code",
   "execution_count": 56,
   "metadata": {},
   "outputs": [
    {
     "name": "stderr",
     "output_type": "stream",
     "text": [
      "INFO:transformers.tokenization_utils_base:loading file https://s3.amazonaws.com/models.huggingface.co/bert/bert-base-cased-vocab.txt from cache at /root/.cache/torch/transformers/5e8a2b4893d13790ed4150ca1906be5f7a03d6c4ddf62296c383f6db42814db2.e13dbb970cb325137104fb2e5f36fe865f27746c6b526f6352861b1980eb80b1\n"
     ]
    }
   ],
   "source": [
    "tokenizer = BertTokenizer.from_pretrained(PRE_TRAINED_MODEL_NAME)"
   ]
  },
  {
   "cell_type": "code",
   "execution_count": 57,
   "metadata": {},
   "outputs": [
    {
     "data": {
      "image/png": "[encoded data removed]",
      "text/plain": [
       "<Figure size 432x288 with 1 Axes>"
      ]
     },
     "metadata": {
      "needs_background": "light"
     },
     "output_type": "display_data"
    }
   ],
   "source": [
    "token_lens = []\n",
    "\n",
    "for txt in df['text']:\n",
    "  tokens = tokenizer.encode(txt, max_length=512, truncation=True)\n",
    "  token_lens.append(len(tokens))\n",
    "\n",
    "sns.distplot(token_lens)\n",
    "plt.xlim([0, 600]);\n",
    "plt.xlabel('Token count');"
   ]
  },
  {
   "cell_type": "code",
   "execution_count": 58,
   "metadata": {},
   "outputs": [],
   "source": [
    "train, test = train_test_split(df, test_size=0.05) #test file is not available to SageMaker during training. - TODO\n",
    "df.to_csv(\"./data/train.csv\", index=False)\n",
    "test.to_csv(\"./data/test.csv\", index=False)"
   ]
  },
  {
   "cell_type": "code",
   "execution_count": 59,
   "metadata": {},
   "outputs": [],
   "source": [
    "inputs_train = sagemaker_session.upload_data(\"./data/train.csv\", bucket=bucket, key_prefix=prefix)\n",
    "inputs_test = sagemaker_session.upload_data(\"./data/test.csv\", bucket=bucket, key_prefix=prefix)"
   ]
  },
  {
   "cell_type": "markdown",
   "metadata": {},
   "source": [
    "Below is the script to invoke SageMaker training job with right hyperparameters. code for training, deployment and predictions (model_fn, input_fn & predict_fn) are in 'code' directory."
   ]
  },
  {
   "cell_type": "code",
   "execution_count": 60,
   "metadata": {},
   "outputs": [
    {
     "name": "stderr",
     "output_type": "stream",
     "text": [
      "INFO:sagemaker:Creating training-job with name: pytorch-training-2020-08-20-06-47-04-737\n"
     ]
    },
    {
     "name": "stdout",
     "output_type": "stream",
     "text": [
      "2020-08-20 06:47:05 Starting - Starting the training job...\n",
      "2020-08-20 06:47:07 Starting - Launching requested ML instances......\n",
      "2020-08-20 06:48:20 Starting - Preparing the instances for training......\n",
      "2020-08-20 06:49:32 Downloading - Downloading input data...\n",
      "2020-08-20 06:50:05 Training - Downloading the training image.........\n",
      "2020-08-20 06:51:19 Training - Training image download completed. Training in progress.\u001B[34mbash: cannot set terminal process group (-1): Inappropriate ioctl for device\u001B[0m\n",
      "\u001B[34mbash: no job control in this shell\u001B[0m\n",
      "\u001B[34m2020-08-20 06:51:19,684 sagemaker-training-toolkit INFO     Imported framework sagemaker_pytorch_container.training\u001B[0m\n",
      "\u001B[34m2020-08-20 06:51:19,715 sagemaker_pytorch_container.training INFO     Block until all host DNS lookups succeed.\u001B[0m\n",
      "\u001B[34m2020-08-20 06:51:21,216 sagemaker_pytorch_container.training INFO     Invoking user training script.\u001B[0m\n",
      "\u001B[34m2020-08-20 06:51:21,520 sagemaker-training-toolkit INFO     Installing dependencies from requirements.txt:\u001B[0m\n",
      "\u001B[34m/opt/conda/bin/python -m pip install -r requirements.txt\u001B[0m\n",
      "\u001B[34mCollecting transformers\n",
      "  Downloading transformers-3.0.2-py3-none-any.whl (769 kB)\u001B[0m\n",
      "\u001B[34mCollecting pytorch_pretrained_bert\n",
      "  Downloading pytorch_pretrained_bert-0.6.2-py3-none-any.whl (123 kB)\u001B[0m\n",
      "\u001B[34mCollecting ipywidgets\n",
      "  Downloading ipywidgets-7.5.1-py2.py3-none-any.whl (121 kB)\u001B[0m\n",
      "\u001B[34mRequirement already satisfied: torch in /opt/conda/lib/python3.6/site-packages (from -r requirements.txt (line 4)) (1.5.1)\u001B[0m\n",
      "\u001B[34mRequirement already satisfied: numpy in /opt/conda/lib/python3.6/site-packages (from -r requirements.txt (line 5)) (1.16.4)\u001B[0m\n",
      "\u001B[34mRequirement already satisfied: pandas in /opt/conda/lib/python3.6/site-packages (from -r requirements.txt (line 6)) (0.25.0)\u001B[0m\n",
      "\u001B[34mRequirement already satisfied: requests in /opt/conda/lib/python3.6/site-packages (from transformers->-r requirements.txt (line 1)) (2.22.0)\u001B[0m\n",
      "\u001B[34mCollecting sentencepiece!=0.1.92\n",
      "  Downloading sentencepiece-0.1.91-cp36-cp36m-manylinux1_x86_64.whl (1.1 MB)\u001B[0m\n",
      "\u001B[34mRequirement already satisfied: packaging in /opt/conda/lib/python3.6/site-packages (from transformers->-r requirements.txt (line 1)) (20.4)\u001B[0m\n",
      "\u001B[34mCollecting filelock\n",
      "  Downloading filelock-3.0.12-py3-none-any.whl (7.6 kB)\u001B[0m\n",
      "\u001B[34mCollecting tokenizers==0.8.1.rc1\n",
      "  Downloading tokenizers-0.8.1rc1-cp36-cp36m-manylinux1_x86_64.whl (3.0 MB)\u001B[0m\n",
      "\u001B[34mCollecting sacremoses\u001B[0m\n",
      "\u001B[34m  Downloading sacremoses-0.0.43.tar.gz (883 kB)\u001B[0m\n",
      "\u001B[34mRequirement already satisfied: tqdm>=4.27 in /opt/conda/lib/python3.6/site-packages (from transformers->-r requirements.txt (line 1)) (4.46.0)\u001B[0m\n",
      "\u001B[34mRequirement already satisfied: dataclasses; python_version < \"3.7\" in /opt/conda/lib/python3.6/site-packages (from transformers->-r requirements.txt (line 1)) (0.7)\u001B[0m\n",
      "\u001B[34mCollecting regex!=2019.12.17\n",
      "  Downloading regex-2020.7.14-cp36-cp36m-manylinux2010_x86_64.whl (660 kB)\u001B[0m\n",
      "\u001B[34mRequirement already satisfied: boto3 in /opt/conda/lib/python3.6/site-packages (from pytorch_pretrained_bert->-r requirements.txt (line 2)) (1.14.5)\u001B[0m\n",
      "\u001B[34mRequirement already satisfied: ipython>=4.0.0; python_version >= \"3.3\" in /opt/conda/lib/python3.6/site-packages (from ipywidgets->-r requirements.txt (line 3)) (7.10.1)\u001B[0m\n",
      "\u001B[34mRequirement already satisfied: traitlets>=4.3.1 in /opt/conda/lib/python3.6/site-packages (from ipywidgets->-r requirements.txt (line 3)) (4.3.3)\u001B[0m\n",
      "\u001B[34mCollecting nbformat>=4.2.0\n",
      "  Downloading nbformat-5.0.7-py3-none-any.whl (170 kB)\u001B[0m\n",
      "\u001B[34mCollecting ipykernel>=4.5.1\n",
      "  Downloading ipykernel-5.3.4-py3-none-any.whl (120 kB)\u001B[0m\n",
      "\u001B[34mCollecting widgetsnbextension~=3.5.0\n",
      "  Downloading widgetsnbextension-3.5.1-py2.py3-none-any.whl (2.2 MB)\u001B[0m\n",
      "\u001B[34mRequirement already satisfied: future in /opt/conda/lib/python3.6/site-packages (from torch->-r requirements.txt (line 4)) (0.17.1)\u001B[0m\n",
      "\u001B[34mRequirement already satisfied: python-dateutil>=2.6.1 in /opt/conda/lib/python3.6/site-packages (from pandas->-r requirements.txt (line 6)) (2.8.1)\u001B[0m\n",
      "\u001B[34mRequirement already satisfied: pytz>=2017.2 in /opt/conda/lib/python3.6/site-packages (from pandas->-r requirements.txt (line 6)) (2020.1)\u001B[0m\n",
      "\u001B[34mRequirement already satisfied: certifi>=2017.4.17 in /opt/conda/lib/python3.6/site-packages (from requests->transformers->-r requirements.txt (line 1)) (2020.4.5.2)\u001B[0m\n",
      "\u001B[34mRequirement already satisfied: idna<2.9,>=2.5 in /opt/conda/lib/python3.6/site-packages (from requests->transformers->-r requirements.txt (line 1)) (2.8)\u001B[0m\n",
      "\u001B[34mRequirement already satisfied: urllib3!=1.25.0,!=1.25.1,<1.26,>=1.21.1 in /opt/conda/lib/python3.6/site-packages (from requests->transformers->-r requirements.txt (line 1)) (1.25.9)\u001B[0m\n",
      "\u001B[34mRequirement already satisfied: chardet<3.1.0,>=3.0.2 in /opt/conda/lib/python3.6/site-packages (from requests->transformers->-r requirements.txt (line 1)) (3.0.4)\u001B[0m\n",
      "\u001B[34mRequirement already satisfied: six in /opt/conda/lib/python3.6/site-packages (from packaging->transformers->-r requirements.txt (line 1)) (1.15.0)\u001B[0m\n",
      "\u001B[34mRequirement already satisfied: pyparsing>=2.0.2 in /opt/conda/lib/python3.6/site-packages (from packaging->transformers->-r requirements.txt (line 1)) (2.4.7)\u001B[0m\n",
      "\u001B[34mCollecting click\n",
      "  Downloading click-7.1.2-py2.py3-none-any.whl (82 kB)\u001B[0m\n",
      "\u001B[34mRequirement already satisfied: joblib in /opt/conda/lib/python3.6/site-packages (from sacremoses->transformers->-r requirements.txt (line 1)) (0.15.1)\u001B[0m\n",
      "\u001B[34mRequirement already satisfied: s3transfer<0.4.0,>=0.3.0 in /opt/conda/lib/python3.6/site-packages (from boto3->pytorch_pretrained_bert->-r requirements.txt (line 2)) (0.3.3)\u001B[0m\n",
      "\u001B[34mRequirement already satisfied: botocore<1.18.0,>=1.17.5 in /opt/conda/lib/python3.6/site-packages (from boto3->pytorch_pretrained_bert->-r requirements.txt (line 2)) (1.17.5)\u001B[0m\n",
      "\u001B[34mRequirement already satisfied: jmespath<1.0.0,>=0.7.1 in /opt/conda/lib/python3.6/site-packages (from boto3->pytorch_pretrained_bert->-r requirements.txt (line 2)) (0.10.0)\u001B[0m\n",
      "\u001B[34mRequirement already satisfied: pygments in /opt/conda/lib/python3.6/site-packages (from ipython>=4.0.0; python_version >= \"3.3\"->ipywidgets->-r requirements.txt (line 3)) (2.6.1)\u001B[0m\n",
      "\u001B[34mRequirement already satisfied: jedi>=0.10 in /opt/conda/lib/python3.6/site-packages (from ipython>=4.0.0; python_version >= \"3.3\"->ipywidgets->-r requirements.txt (line 3)) (0.17.0)\u001B[0m\n",
      "\u001B[34mRequirement already satisfied: backcall in /opt/conda/lib/python3.6/site-packages (from ipython>=4.0.0; python_version >= \"3.3\"->ipywidgets->-r requirements.txt (line 3)) (0.2.0)\u001B[0m\n",
      "\u001B[34mRequirement already satisfied: setuptools>=18.5 in /opt/conda/lib/python3.6/site-packages (from ipython>=4.0.0; python_version >= \"3.3\"->ipywidgets->-r requirements.txt (line 3)) (47.3.0.post20200616)\u001B[0m\n",
      "\u001B[34mRequirement already satisfied: pexpect; sys_platform != \"win32\" in /opt/conda/lib/python3.6/site-packages (from ipython>=4.0.0; python_version >= \"3.3\"->ipywidgets->-r requirements.txt (line 3)) (4.8.0)\u001B[0m\n",
      "\u001B[34mRequirement already satisfied: prompt-toolkit!=3.0.0,!=3.0.1,<3.1.0,>=2.0.0 in /opt/conda/lib/python3.6/site-packages (from ipython>=4.0.0; python_version >= \"3.3\"->ipywidgets->-r requirements.txt (line 3)) (3.0.5)\u001B[0m\n",
      "\u001B[34mRequirement already satisfied: decorator in /opt/conda/lib/python3.6/site-packages (from ipython>=4.0.0; python_version >= \"3.3\"->ipywidgets->-r requirements.txt (line 3)) (4.4.2)\u001B[0m\n",
      "\u001B[34mRequirement already satisfied: pickleshare in /opt/conda/lib/python3.6/site-packages (from ipython>=4.0.0; python_version >= \"3.3\"->ipywidgets->-r requirements.txt (line 3)) (0.7.5)\u001B[0m\n",
      "\u001B[34mRequirement already satisfied: ipython-genutils in /opt/conda/lib/python3.6/site-packages (from traitlets>=4.3.1->ipywidgets->-r requirements.txt (line 3)) (0.2.0)\u001B[0m\n",
      "\u001B[34mCollecting jsonschema!=2.5.0,>=2.4\n",
      "  Downloading jsonschema-3.2.0-py2.py3-none-any.whl (56 kB)\u001B[0m\n",
      "\u001B[34mCollecting jupyter-core\n",
      "  Downloading jupyter_core-4.6.3-py2.py3-none-any.whl (83 kB)\u001B[0m\n",
      "\u001B[34mCollecting tornado>=4.2\n",
      "  Downloading tornado-6.0.4.tar.gz (496 kB)\u001B[0m\n",
      "\u001B[34mCollecting jupyter-client\n",
      "  Downloading jupyter_client-6.1.6-py3-none-any.whl (108 kB)\u001B[0m\n",
      "\u001B[34mCollecting notebook>=4.4.1\n",
      "  Downloading notebook-6.1.3-py3-none-any.whl (9.4 MB)\u001B[0m\n",
      "\u001B[34mRequirement already satisfied: docutils<0.16,>=0.10 in /opt/conda/lib/python3.6/site-packages (from botocore<1.18.0,>=1.17.5->boto3->pytorch_pretrained_bert->-r requirements.txt (line 2)) (0.15.2)\u001B[0m\n",
      "\u001B[34mRequirement already satisfied: parso>=0.7.0 in /opt/conda/lib/python3.6/site-packages (from jedi>=0.10->ipython>=4.0.0; python_version >= \"3.3\"->ipywidgets->-r requirements.txt (line 3)) (0.7.0)\u001B[0m\n",
      "\u001B[34mRequirement already satisfied: ptyprocess>=0.5 in /opt/conda/lib/python3.6/site-packages (from pexpect; sys_platform != \"win32\"->ipython>=4.0.0; python_version >= \"3.3\"->ipywidgets->-r requirements.txt (line 3)) (0.6.0)\u001B[0m\n",
      "\u001B[34mRequirement already satisfied: wcwidth in /opt/conda/lib/python3.6/site-packages (from prompt-toolkit!=3.0.0,!=3.0.1,<3.1.0,>=2.0.0->ipython>=4.0.0; python_version >= \"3.3\"->ipywidgets->-r requirements.txt (line 3)) (0.2.4)\u001B[0m\n",
      "\u001B[34mCollecting pyrsistent>=0.14.0\n",
      "  Downloading pyrsistent-0.16.0.tar.gz (108 kB)\u001B[0m\n",
      "\u001B[34mCollecting attrs>=17.4.0\n",
      "  Downloading attrs-19.3.0-py2.py3-none-any.whl (39 kB)\u001B[0m\n",
      "\u001B[34mRequirement already satisfied: importlib-metadata; python_version < \"3.8\" in /opt/conda/lib/python3.6/site-packages (from jsonschema!=2.5.0,>=2.4->nbformat>=4.2.0->ipywidgets->-r requirements.txt (line 3)) (1.6.1)\u001B[0m\n",
      "\u001B[34mCollecting pyzmq>=13\n",
      "  Downloading pyzmq-19.0.2-cp36-cp36m-manylinux1_x86_64.whl (1.1 MB)\u001B[0m\n",
      "\u001B[34mCollecting nbconvert\n",
      "  Downloading nbconvert-5.6.1-py2.py3-none-any.whl (455 kB)\u001B[0m\n",
      "\u001B[34mCollecting jinja2\n",
      "  Downloading Jinja2-2.11.2-py2.py3-none-any.whl (125 kB)\u001B[0m\n",
      "\u001B[34mCollecting prometheus-client\n",
      "  Downloading prometheus_client-0.8.0-py2.py3-none-any.whl (53 kB)\u001B[0m\n",
      "\u001B[34mCollecting terminado>=0.8.3\n",
      "  Downloading terminado-0.8.3-py2.py3-none-any.whl (33 kB)\u001B[0m\n",
      "\u001B[34mCollecting argon2-cffi\n",
      "  Downloading argon2_cffi-20.1.0-cp35-abi3-manylinux1_x86_64.whl (97 kB)\u001B[0m\n",
      "\u001B[34mCollecting Send2Trash\n",
      "  Downloading Send2Trash-1.5.0-py3-none-any.whl (12 kB)\u001B[0m\n",
      "\u001B[34mRequirement already satisfied: zipp>=0.5 in /opt/conda/lib/python3.6/site-packages (from importlib-metadata; python_version < \"3.8\"->jsonschema!=2.5.0,>=2.4->nbformat>=4.2.0->ipywidgets->-r requirements.txt (line 3)) (3.1.0)\u001B[0m\n",
      "\u001B[34mCollecting entrypoints>=0.2.2\n",
      "  Downloading entrypoints-0.3-py2.py3-none-any.whl (11 kB)\u001B[0m\n",
      "\u001B[34mCollecting defusedxml\n",
      "  Downloading defusedxml-0.6.0-py2.py3-none-any.whl (23 kB)\u001B[0m\n",
      "\u001B[34mCollecting bleach\n",
      "  Downloading bleach-3.1.5-py2.py3-none-any.whl (151 kB)\u001B[0m\n",
      "\u001B[34mCollecting pandocfilters>=1.4.1\n",
      "  Downloading pandocfilters-1.4.2.tar.gz (14 kB)\u001B[0m\n",
      "\u001B[34mCollecting mistune<2,>=0.8.1\n",
      "  Downloading mistune-0.8.4-py2.py3-none-any.whl (16 kB)\u001B[0m\n",
      "\u001B[34mCollecting testpath\n",
      "  Downloading testpath-0.4.4-py2.py3-none-any.whl (163 kB)\u001B[0m\n",
      "\u001B[34mCollecting MarkupSafe>=0.23\n",
      "  Downloading MarkupSafe-1.1.1-cp36-cp36m-manylinux1_x86_64.whl (27 kB)\u001B[0m\n",
      "\u001B[34mRequirement already satisfied: cffi>=1.0.0 in /opt/conda/lib/python3.6/site-packages (from argon2-cffi->notebook>=4.4.1->widgetsnbextension~=3.5.0->ipywidgets->-r requirements.txt (line 3)) (1.14.0)\u001B[0m\n",
      "\u001B[34mCollecting webencodings\n",
      "  Downloading webencodings-0.5.1-py2.py3-none-any.whl (11 kB)\u001B[0m\n",
      "\u001B[34mRequirement already satisfied: pycparser in /opt/conda/lib/python3.6/site-packages (from cffi>=1.0.0->argon2-cffi->notebook>=4.4.1->widgetsnbextension~=3.5.0->ipywidgets->-r requirements.txt (line 3)) (2.20)\u001B[0m\n",
      "\u001B[34mBuilding wheels for collected packages: sacremoses, tornado, pyrsistent, pandocfilters\n",
      "  Building wheel for sacremoses (setup.py): started\n",
      "  Building wheel for sacremoses (setup.py): finished with status 'done'\n",
      "  Created wheel for sacremoses: filename=sacremoses-0.0.43-py3-none-any.whl size=893259 sha256=0c6edc21f1fc784e5d2132429fc7cb4de8abd82e29c24f02aef1e14a508f99a1\n",
      "  Stored in directory: /root/.cache/pip/wheels/49/25/98/cdea9c79b2d9a22ccc59540b1784b67f06b633378e97f58da2\n",
      "  Building wheel for tornado (setup.py): started\u001B[0m\n",
      "\u001B[34m  Building wheel for tornado (setup.py): finished with status 'done'\n",
      "  Created wheel for tornado: filename=tornado-6.0.4-cp36-cp36m-linux_x86_64.whl size=422977 sha256=41ffc0ee838e512f488abc813d8d66ef90393dfce23fba82cae2be113df64d06\n",
      "  Stored in directory: /root/.cache/pip/wheels/37/a7/db/2d592e44029ef817f3ef63ea991db34191cebaef087a96f505\n",
      "  Building wheel for pyrsistent (setup.py): started\u001B[0m\n",
      "\u001B[34m  Building wheel for pyrsistent (setup.py): finished with status 'done'\n",
      "  Created wheel for pyrsistent: filename=pyrsistent-0.16.0-cp36-cp36m-linux_x86_64.whl size=113252 sha256=09005261542bdbf1c9599f04600de251c817155b62f54e4adb9e5c9c8e50b7a6\n",
      "  Stored in directory: /root/.cache/pip/wheels/d1/8a/1c/32ab9017418a2c64e4fbaf503c08648bed2f8eb311b869a464\n",
      "  Building wheel for pandocfilters (setup.py): started\u001B[0m\n",
      "\u001B[34m  Building wheel for pandocfilters (setup.py): finished with status 'done'\n",
      "  Created wheel for pandocfilters: filename=pandocfilters-1.4.2-py3-none-any.whl size=7856 sha256=079d6404fe215dcead6734087ca841187a2cce11ddc5fc56392df0fca8d1002d\n",
      "  Stored in directory: /root/.cache/pip/wheels/46/c4/40/718c6fd14c2129ccaee10e0cf03ef6c4d01d98cad5dbbfda38\u001B[0m\n",
      "\u001B[34mSuccessfully built sacremoses tornado pyrsistent pandocfilters\u001B[0m\n",
      "\u001B[34mInstalling collected packages: sentencepiece, filelock, tokenizers, regex, click, sacremoses, transformers, pytorch-pretrained-bert, pyrsistent, attrs, jsonschema, jupyter-core, nbformat, tornado, pyzmq, jupyter-client, ipykernel, entrypoints, defusedxml, webencodings, bleach, MarkupSafe, jinja2, pandocfilters, mistune, testpath, nbconvert, prometheus-client, terminado, argon2-cffi, Send2Trash, notebook, widgetsnbextension, ipywidgets\u001B[0m\n",
      "\u001B[34mSuccessfully installed MarkupSafe-1.1.1 Send2Trash-1.5.0 argon2-cffi-20.1.0 attrs-19.3.0 bleach-3.1.5 click-7.1.2 defusedxml-0.6.0 entrypoints-0.3 filelock-3.0.12 ipykernel-5.3.4 ipywidgets-7.5.1 jinja2-2.11.2 jsonschema-3.2.0 jupyter-client-6.1.6 jupyter-core-4.6.3 mistune-0.8.4 nbconvert-5.6.1 nbformat-5.0.7 notebook-6.1.3 pandocfilters-1.4.2 prometheus-client-0.8.0 pyrsistent-0.16.0 pytorch-pretrained-bert-0.6.2 pyzmq-19.0.2 regex-2020.7.14 sacremoses-0.0.43 sentencepiece-0.1.91 terminado-0.8.3 testpath-0.4.4 tokenizers-0.8.1rc1 tornado-6.0.4 transformers-3.0.2 webencodings-0.5.1 widgetsnbextension-3.5.1\u001B[0m\n",
      "\u001B[34m2020-08-20 06:51:37,776 sagemaker-training-toolkit INFO     Invoking user script\n",
      "\u001B[0m\n",
      "\u001B[34mTraining Env:\n",
      "\u001B[0m\n",
      "\u001B[34m{\n",
      "    \"additional_framework_parameters\": {},\n",
      "    \"channel_input_dirs\": {\n",
      "        \"testing\": \"/opt/ml/input/data/testing\",\n",
      "        \"training\": \"/opt/ml/input/data/training\"\n",
      "    },\n",
      "    \"current_host\": \"algo-1\",\n",
      "    \"framework_module\": \"sagemaker_pytorch_container.training:main\",\n",
      "    \"hosts\": [\n",
      "        \"algo-1\"\n",
      "    ],\n",
      "    \"hyperparameters\": {\n",
      "        \"batch-size\": 16,\n",
      "        \"test-batch-size\": 8,\n",
      "        \"seed\": 42,\n",
      "        \"backend\": \"gloo\",\n",
      "        \"epochs\": 4,\n",
      "        \"num_labels\": 2\n",
      "    },\n",
      "    \"input_config_dir\": \"/opt/ml/input/config\",\n",
      "    \"input_data_config\": {\n",
      "        \"testing\": {\n",
      "            \"TrainingInputMode\": \"File\",\n",
      "            \"S3DistributionType\": \"FullyReplicated\",\n",
      "            \"RecordWrapperType\": \"None\"\n",
      "        },\n",
      "        \"training\": {\n",
      "            \"TrainingInputMode\": \"File\",\n",
      "            \"S3DistributionType\": \"FullyReplicated\",\n",
      "            \"RecordWrapperType\": \"None\"\n",
      "        }\n",
      "    },\n",
      "    \"input_dir\": \"/opt/ml/input\",\n",
      "    \"is_master\": true,\n",
      "    \"job_name\": \"pytorch-training-2020-08-20-06-47-04-737\",\n",
      "    \"log_level\": 20,\n",
      "    \"master_hostname\": \"algo-1\",\n",
      "    \"model_dir\": \"/opt/ml/model\",\n",
      "    \"module_dir\": \"s3://sagemaker-us-east-1-695620255925/pytorch-training-2020-08-20-06-47-04-737/source/sourcedir.tar.gz\",\n",
      "    \"module_name\": \"train_deploy\",\n",
      "    \"network_interface_name\": \"eth0\",\n",
      "    \"num_cpus\": 8,\n",
      "    \"num_gpus\": 1,\n",
      "    \"output_data_dir\": \"/opt/ml/output/data\",\n",
      "    \"output_dir\": \"/opt/ml/output\",\n",
      "    \"output_intermediate_dir\": \"/opt/ml/output/intermediate\",\n",
      "    \"resource_config\": {\n",
      "        \"current_host\": \"algo-1\",\n",
      "        \"hosts\": [\n",
      "            \"algo-1\"\n",
      "        ],\n",
      "        \"network_interface_name\": \"eth0\"\n",
      "    },\n",
      "    \"user_entry_point\": \"train_deploy.py\"\u001B[0m\n",
      "\u001B[34m}\n",
      "\u001B[0m\n",
      "\u001B[34mEnvironment variables:\n",
      "\u001B[0m\n",
      "\u001B[34mSM_HOSTS=[\"algo-1\"]\u001B[0m\n",
      "\u001B[34mSM_NETWORK_INTERFACE_NAME=eth0\u001B[0m\n",
      "\u001B[34mSM_HPS={\"backend\":\"gloo\",\"batch-size\":16,\"epochs\":4,\"num_labels\":2,\"seed\":42,\"test-batch-size\":8}\u001B[0m\n",
      "\u001B[34mSM_USER_ENTRY_POINT=train_deploy.py\u001B[0m\n",
      "\u001B[34mSM_FRAMEWORK_PARAMS={}\u001B[0m\n",
      "\u001B[34mSM_RESOURCE_CONFIG={\"current_host\":\"algo-1\",\"hosts\":[\"algo-1\"],\"network_interface_name\":\"eth0\"}\u001B[0m\n",
      "\u001B[34mSM_INPUT_DATA_CONFIG={\"testing\":{\"RecordWrapperType\":\"None\",\"S3DistributionType\":\"FullyReplicated\",\"TrainingInputMode\":\"File\"},\"training\":{\"RecordWrapperType\":\"None\",\"S3DistributionType\":\"FullyReplicated\",\"TrainingInputMode\":\"File\"}}\u001B[0m\n",
      "\u001B[34mSM_OUTPUT_DATA_DIR=/opt/ml/output/data\u001B[0m\n",
      "\u001B[34mSM_CHANNELS=[\"testing\",\"training\"]\u001B[0m\n",
      "\u001B[34mSM_CURRENT_HOST=algo-1\u001B[0m\n",
      "\u001B[34mSM_MODULE_NAME=train_deploy\u001B[0m\n",
      "\u001B[34mSM_LOG_LEVEL=20\u001B[0m\n",
      "\u001B[34mSM_FRAMEWORK_MODULE=sagemaker_pytorch_container.training:main\u001B[0m\n",
      "\u001B[34mSM_INPUT_DIR=/opt/ml/input\u001B[0m\n",
      "\u001B[34mSM_INPUT_CONFIG_DIR=/opt/ml/input/config\u001B[0m\n",
      "\u001B[34mSM_OUTPUT_DIR=/opt/ml/output\u001B[0m\n",
      "\u001B[34mSM_NUM_CPUS=8\u001B[0m\n",
      "\u001B[34mSM_NUM_GPUS=1\u001B[0m\n",
      "\u001B[34mSM_MODEL_DIR=/opt/ml/model\u001B[0m\n",
      "\u001B[34mSM_MODULE_DIR=s3://sagemaker-us-east-1-695620255925/pytorch-training-2020-08-20-06-47-04-737/source/sourcedir.tar.gz\u001B[0m\n",
      "\u001B[34mSM_TRAINING_ENV={\"additional_framework_parameters\":{},\"channel_input_dirs\":{\"testing\":\"/opt/ml/input/data/testing\",\"training\":\"/opt/ml/input/data/training\"},\"current_host\":\"algo-1\",\"framework_module\":\"sagemaker_pytorch_container.training:main\",\"hosts\":[\"algo-1\"],\"hyperparameters\":{\"backend\":\"gloo\",\"batch-size\":16,\"epochs\":4,\"num_labels\":2,\"seed\":42,\"test-batch-size\":8},\"input_config_dir\":\"/opt/ml/input/config\",\"input_data_config\":{\"testing\":{\"RecordWrapperType\":\"None\",\"S3DistributionType\":\"FullyReplicated\",\"TrainingInputMode\":\"File\"},\"training\":{\"RecordWrapperType\":\"None\",\"S3DistributionType\":\"FullyReplicated\",\"TrainingInputMode\":\"File\"}},\"input_dir\":\"/opt/ml/input\",\"is_master\":true,\"job_name\":\"pytorch-training-2020-08-20-06-47-04-737\",\"log_level\":20,\"master_hostname\":\"algo-1\",\"model_dir\":\"/opt/ml/model\",\"module_dir\":\"s3://sagemaker-us-east-1-695620255925/pytorch-training-2020-08-20-06-47-04-737/source/sourcedir.tar.gz\",\"module_name\":\"train_deploy\",\"network_interface_name\":\"eth0\",\"num_cpus\":8,\"num_gpus\":1,\"output_data_dir\":\"/opt/ml/output/data\",\"output_dir\":\"/opt/ml/output\",\"output_intermediate_dir\":\"/opt/ml/output/intermediate\",\"resource_config\":{\"current_host\":\"algo-1\",\"hosts\":[\"algo-1\"],\"network_interface_name\":\"eth0\"},\"user_entry_point\":\"train_deploy.py\"}\u001B[0m\n",
      "\u001B[34mSM_USER_ARGS=[\"--backend\",\"gloo\",\"--batch-size\",\"16\",\"--epochs\",\"4\",\"--num_labels\",\"2\",\"--seed\",\"42\",\"--test-batch-size\",\"8\"]\u001B[0m\n",
      "\u001B[34mSM_OUTPUT_INTERMEDIATE_DIR=/opt/ml/output/intermediate\u001B[0m\n",
      "\u001B[34mSM_CHANNEL_TESTING=/opt/ml/input/data/testing\u001B[0m\n",
      "\u001B[34mSM_CHANNEL_TRAINING=/opt/ml/input/data/training\u001B[0m\n",
      "\u001B[34mSM_HP_BATCH-SIZE=16\u001B[0m\n",
      "\u001B[34mSM_HP_TEST-BATCH-SIZE=8\u001B[0m\n",
      "\u001B[34mSM_HP_SEED=42\u001B[0m\n",
      "\u001B[34mSM_HP_BACKEND=gloo\u001B[0m\n",
      "\u001B[34mSM_HP_EPOCHS=4\u001B[0m\n",
      "\u001B[34mSM_HP_NUM_LABELS=2\u001B[0m\n",
      "\u001B[34mPYTHONPATH=/opt/ml/code:/opt/conda/bin:/opt/conda/lib/python36.zip:/opt/conda/lib/python3.6:/opt/conda/lib/python3.6/lib-dynload:/opt/conda/lib/python3.6/site-packages\n",
      "\u001B[0m\n",
      "\u001B[34mInvoking script with the following command:\n",
      "\u001B[0m\n",
      "\u001B[34m/opt/conda/bin/python train_deploy.py --backend gloo --batch-size 16 --epochs 4 --num_labels 2 --seed 42 --test-batch-size 8\n",
      "\n",
      "\u001B[0m\n",
      "\u001B[34m(9216, 3)\u001B[0m\n",
      "\u001B[34mEpoch 1/4\u001B[0m\n",
      "\u001B[34m----------\u001B[0m\n",
      "\u001B[34m[2020-08-20 06:51:59.219 algo-1:66 INFO json_config.py:90] Creating hook from json_config at /opt/ml/input/config/debughookconfig.json.\u001B[0m\n",
      "\u001B[34m[2020-08-20 06:51:59.219 algo-1:66 INFO hook.py:191] tensorboard_dir has not been set for the hook. SMDebug will not be exporting tensorboard summaries.\u001B[0m\n",
      "\u001B[34m[2020-08-20 06:51:59.219 algo-1:66 INFO hook.py:236] Saving to /opt/ml/output/tensors\u001B[0m\n",
      "\u001B[34m[2020-08-20 06:51:59.220 algo-1:66 INFO state_store.py:67] The checkpoint config file /opt/ml/input/config/checkpointconfig.json does not exist.\u001B[0m\n",
      "\u001B[34m[2020-08-20 06:51:59.250 algo-1:66 INFO hook.py:376] Monitoring the collections: losses\u001B[0m\n",
      "\u001B[34m[2020-08-20 06:51:59.250 algo-1:66 INFO hook.py:437] Hook is writing from the hook with pid: 66\n",
      "\u001B[34mTrain loss 0.4224610466201411 accuracy 0.8054014950566675\u001B[0m\n",
      "\u001B[34mVal   loss 0.40673584902080995 accuracy 0.8004338394793926\n",
      "\u001B[0m\n",
      "\u001B[34mEpoch 2/4\u001B[0m\n",
      "\u001B[34m----------\u001B[0m\n",
      "\u001B[34mTrain loss 0.32746388375586855 accuracy 0.8527851458885942\u001B[0m\n",
      "\u001B[34mVal   loss 0.37918300091706475 accuracy 0.8308026030368764\n",
      "\u001B[0m\n",
      "\u001B[34mEpoch 3/4\u001B[0m\n",
      "\u001B[34m----------\u001B[0m\n",
      "\u001B[34mTrain loss 0.24595713711959205 accuracy 0.8973957077405353\u001B[0m\n",
      "\u001B[34mVal   loss 0.40427308054319744 accuracy 0.8481561822125814\n",
      "\u001B[0m\n",
      "\u001B[34mEpoch 4/4\u001B[0m\n",
      "\u001B[34m----------\u001B[0m\n",
      "\u001B[34mTrain loss 0.1850487107414616 accuracy 0.9301904991560164\u001B[0m\n",
      "\u001B[34mVal   loss 0.4928180010796621 accuracy 0.8568329718004338\n",
      "\u001B[0m\n",
      "\u001B[34mTest Accuracy:\n",
      "\u001B[0m\n",
      "\u001B[34m0.8611713665943601\u001B[0m\n",
      "\u001B[34m              precision    recall  f1-score   support\n",
      "\n",
      "  Acceptable       0.90      0.93      0.92       377\u001B[0m\n",
      "\u001B[34mUnacceptable       0.64      0.56      0.59        84\n",
      "\n",
      "    accuracy                           0.86       461\n",
      "   macro avg       0.77      0.74      0.76       461\u001B[0m\n",
      "\u001B[34mweighted avg       0.86      0.86      0.86       461\n",
      "\u001B[0m\n",
      "\u001B[34mP(class=0): Brier Score=0.1161\u001B[0m\n",
      "\u001B[34mP(class=1): Brier Score=0.1161\u001B[0m\n",
      "\u001B[34m[2020-08-20 06:57:16.292 algo-1:66 INFO utils.py:25] The end of training job file will not be written for jobs running under SageMaker.\u001B[0m\n",
      "\u001B[34m2020-08-20 06:57:16,850 sagemaker-training-toolkit INFO     Reporting training SUCCESS\u001B[0m\n",
      "\n",
      "2020-08-20 06:57:17 Uploading - Uploading generated training model\n",
      "2020-08-20 06:58:15 Completed - Training job completed\n",
      "Training seconds: 523\n",
      "Billable seconds: 523\n"
     ]
    }
   ],
   "source": [
    "estimator = PyTorch(\n",
    "    entry_point=\"train_deploy.py\",\n",
    "    source_dir=\"code\",\n",
    "    role=role,\n",
    "    framework_version=\"1.5.1\",\n",
    "    py_version=\"py3\",\n",
    "    train_instance_count=1,  # this script only support distributed training for GPU instances.\n",
    "    train_instance_type=\"ml.p3.2xlarge\",\n",
    "    hyperparameters={\n",
    "        \"epochs\": 4,\n",
    "        \"num_labels\": 2,\n",
    "        \"backend\": \"gloo\",\n",
    "        \"seed\": 42,\n",
    "        \"batch-size\": 16,\n",
    "        \"test-batch-size\": 8\n",
    "    }\n",
    ")\n",
    "\n",
    "estimator.fit({\"training\": inputs_train, \"testing\": inputs_test})"
   ]
  },
  {
   "cell_type": "markdown",
   "metadata": {},
   "source": [
    "After the training job executed, we can see the accuracy is 86%, F1 score is at 0.86 and Brier score is 0.11.\n",
    "\n",
    "In the next block, we are creating a SageMaker endpoint that can deployed and used by other services for running the inferences. "
   ]
  },
  {
   "cell_type": "code",
   "execution_count": 61,
   "metadata": {},
   "outputs": [
    {
     "name": "stderr",
     "output_type": "stream",
     "text": [
      "INFO:sagemaker:Creating model with name: pytorch-training-2020-08-20-06-47-04-737\n",
      "INFO:sagemaker:Creating endpoint with name pytorch-training-2020-08-20-06-47-04-737\n"
     ]
    },
    {
     "name": "stdout",
     "output_type": "stream",
     "text": [
      "---------------!"
     ]
    }
   ],
   "source": [
    "predictor = estimator.deploy(initial_instance_count=1, instance_type=\"ml.m5.large\")"
   ]
  },
  {
   "cell_type": "markdown",
   "metadata": {},
   "source": [
    "Executing a sample prediction. This shows a sample request and response.\n",
    "Here is the sample of invokation from a AWS Lambda function (Java)\n",
    "\n",
    "InvokeEndpointRequest invokeEndpointRequest = InvokeEndpointRequest.builder()\n",
    "                            .accept(\"application/json\")\n",
    "                            .contentType(\"application/json\")\n",
    "                            .endpointName(System.getenv(\"SM_MODEL_NAME\"))\n",
    "                            .body(SdkBytes.fromUtf8String(json.toString()))\n",
    "                            .build();"
   ]
  },
  {
   "cell_type": "code",
   "execution_count": 62,
   "metadata": {},
   "outputs": [],
   "source": [
    "from sagemaker.predictor import json_deserializer, json_serializer\n",
    "\n",
    "predictor.content_type = \"application/json\"\n",
    "predictor.accept = \"application/json\"\n",
    "predictor.serializer = json_serializer\n",
    "predictor.deserializer = json_deserializer"
   ]
  },
  {
   "cell_type": "code",
   "execution_count": 76,
   "metadata": {},
   "outputs": [
    {
     "name": "stdout",
     "output_type": "stream",
     "text": [
      "{'prediction': 0, 'acc_prob': 99.11, 'unacc_prob': 0.89}\n"
     ]
    }
   ],
   "source": [
    "result = predictor.predict({'text': 'Governing Law: This Agreement shall be governed by and interpreted in accordance with the Federal laws of theUnited States, without reference to conflict-of-laws principles. If for any reason a court of competent jurisdiction finds any provision of this Agreement to be unenforceable, that provision will be enforced to the maximum extent possible to effectuate the intent of the parties, and the remainder of this Agreement will continue in full force and effect. This Agreement shall not be governed by the United Nations Convention on Contracts for the International Sale of Goods. Buyer agrees that exclusive jurisdiction for any dispute arising out of or relating to this Agreement lies within the venue mandated by applicable Federal law.'})\n",
    "print(result)"
   ]
  },
  {
   "cell_type": "code",
   "execution_count": 65,
   "metadata": {},
   "outputs": [
    {
     "data": {
      "text/html": [
       "<div>\n",
       "<style scoped>\n",
       "    .dataframe tbody tr th:only-of-type {\n",
       "        vertical-align: middle;\n",
       "    }\n",
       "\n",
       "    .dataframe tbody tr th {\n",
       "        vertical-align: top;\n",
       "    }\n",
       "\n",
       "    .dataframe thead th {\n",
       "        text-align: right;\n",
       "    }\n",
       "</style>\n",
       "<table border=\"1\" class=\"dataframe\">\n",
       "  <thead>\n",
       "    <tr style=\"text-align: right;\">\n",
       "      <th></th>\n",
       "      <th>Clause ID</th>\n",
       "      <th>Clause Text</th>\n",
       "    </tr>\n",
       "  </thead>\n",
       "  <tbody>\n",
       "    <tr>\n",
       "      <th>0</th>\n",
       "      <td>94</td>\n",
       "      <td>\\tthe Customer does not make any admissions (s...</td>\n",
       "    </tr>\n",
       "    <tr>\n",
       "      <th>1</th>\n",
       "      <td>7028</td>\n",
       "      <td>Requests. Company will notify Customer before ...</td>\n",
       "    </tr>\n",
       "    <tr>\n",
       "      <th>2</th>\n",
       "      <td>9048</td>\n",
       "      <td>We sometimes release beta versions of our webs...</td>\n",
       "    </tr>\n",
       "    <tr>\n",
       "      <th>3</th>\n",
       "      <td>7755</td>\n",
       "      <td>Termination without Cause. Customer may termin...</td>\n",
       "    </tr>\n",
       "    <tr>\n",
       "      <th>4</th>\n",
       "      <td>1145</td>\n",
       "      <td>1.8 “Term” means the term of this Agreement as...</td>\n",
       "    </tr>\n",
       "  </tbody>\n",
       "</table>\n",
       "</div>"
      ],
      "text/plain": [
       "   Clause ID                                        Clause Text\n",
       "0         94  \\tthe Customer does not make any admissions (s...\n",
       "1       7028  Requests. Company will notify Customer before ...\n",
       "2       9048  We sometimes release beta versions of our webs...\n",
       "3       7755  Termination without Cause. Customer may termin...\n",
       "4       1145  1.8 “Term” means the term of this Agreement as..."
      ]
     },
     "execution_count": 65,
     "metadata": {},
     "output_type": "execute_result"
    }
   ],
   "source": [
    "val_df = pd.read_csv('./data/AI_ML_Challenge_Validation_Data_Set_v1.csv')\n",
    "val_df.head()"
   ]
  },
  {
   "cell_type": "markdown",
   "metadata": {},
   "source": [
    "Using the deployed model to run prediction for the validation dataset"
   ]
  },
  {
   "cell_type": "code",
   "execution_count": 74,
   "metadata": {},
   "outputs": [],
   "source": [
    "pred_probs = []\n",
    "\n",
    "for index, row in val_df.iterrows():\n",
    "    text = row['Clause Text']\n",
    "    chunks = chunk_text_overlapping(text)\n",
    "    if len(chunks) > 1:\n",
    "        parts = []\n",
    "        for c in chunks:\n",
    "            result = predictor.predict({'text': c})\n",
    "            parts.append({\"Prediction\": result['prediction'], \"Probability acceptable\": result['acc_prob']})\n",
    "        df_temp = pd.DataFrame(parts, columns=['Prediction', 'Probability acceptable'])\n",
    "        pred_probs.append({\"Clause ID\": row[\"Clause ID\"], \"Prediction\": df_temp['Prediction'].max(), \"Probability acceptable\": df_temp['Probability acceptable'].mean()})\n",
    "    else:\n",
    "        result = predictor.predict({'text': text})\n",
    "        pred_probs.append({\"Clause ID\": row[\"Clause ID\"], \"Prediction\": result['prediction'], \"Probability acceptable\": result['acc_prob']})\n",
    "    \n",
    "validated_df = pd.DataFrame(pred_probs, columns=[\"Clause ID\", \"Prediction\", \"Probability acceptable\"])\n",
    "\n",
    "validated_df.to_csv(\"./data/predictions.csv\", sep=',')\n"
   ]
  },
  {
   "cell_type": "code",
   "execution_count": 73,
   "metadata": {},
   "outputs": [
    {
     "name": "stdout",
     "output_type": "stream",
     "text": [
      "      Clause ID  Prediction  Probability acceptable\n",
      "0            94           0               98.510000\n",
      "1          7028           0               98.400000\n",
      "2          9048           0               93.300000\n",
      "3          7755           1                2.220000\n",
      "4          1145           0               99.940000\n",
      "...         ...         ...                     ...\n",
      "1386       6590           0               99.940000\n",
      "1387       2333           0               97.763333\n",
      "1388       2489           0               99.940000\n",
      "1389       2548           0               99.920000\n",
      "1390       7173           0               99.540000\n",
      "\n",
      "[1391 rows x 3 columns]\n"
     ]
    }
   ],
   "source": [
    "print(validated_df)"
   ]
  }
 ],
 "metadata": {
  "instance_type": "ml.g4dn.xlarge",
  "kernelspec": {
   "display_name": "Python 3 (PyTorch GPU Optimized)",
   "language": "python",
   "name": "python3__SAGEMAKER_INTERNAL__arn:aws:sagemaker:us-east-1:081325390199:image/pytorch-1.4-gpu-py36"
  },
  "language_info": {
   "codemirror_mode": {
    "name": "ipython",
    "version": 3
   },
   "file_extension": ".py",
   "mimetype": "text/x-python",
   "name": "python",
   "nbconvert_exporter": "python",
   "pygments_lexer": "ipython3",
   "version": "3.6.6"
  }
 },
 "nbformat": 4,
 "nbformat_minor": 4
}